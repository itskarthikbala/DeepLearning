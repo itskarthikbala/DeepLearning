{
 "cells": [
  {
   "cell_type": "code",
   "execution_count": 1,
   "id": "2b5246de",
   "metadata": {},
   "outputs": [],
   "source": [
    "#pytorch utility imports\n",
    "import torch\n",
    "import torchvision\n",
    "import torchvision.transforms as transforms\n",
    "from torch.utils.data import DataLoader, TensorDataset\n",
    "from torchvision import datasets"
   ]
  },
  {
   "cell_type": "code",
   "execution_count": 3,
   "id": "ffd969ac",
   "metadata": {},
   "outputs": [],
   "source": [
    "#neural net imports\n",
    "import torch.nn as nn\n",
    "import torch.nn.functional as F\n",
    "import torch.optim as optim\n",
    "from torch.autograd import Variable"
   ]
  },
  {
   "cell_type": "code",
   "execution_count": 4,
   "id": "9bfbde93",
   "metadata": {},
   "outputs": [],
   "source": [
    "#import libraries related to data Analysis and Visualisation\n",
    "import pandas as pd\n",
    "import numpy as np\n",
    "import matplotlib.pyplot as plt\n",
    "from sklearn.model_selection import train_test_split\n",
    "import os\n",
    "import math\n",
    "%matplotlib inline"
   ]
  },
  {
   "cell_type": "code",
   "execution_count": 5,
   "id": "8a96954d",
   "metadata": {},
   "outputs": [
    {
     "data": {
      "text/plain": [
       "'C:\\\\Users\\\\kakabala\\\\git.dl\\\\deeplearning\\\\mnist_classifier'"
      ]
     },
     "execution_count": 5,
     "metadata": {},
     "output_type": "execute_result"
    }
   ],
   "source": [
    "os.getcwd()"
   ]
  },
  {
   "cell_type": "code",
   "execution_count": 6,
   "id": "80afa182",
   "metadata": {},
   "outputs": [
    {
     "name": "stdout",
     "output_type": "stream",
     "text": [
      "False\n",
      "True\n"
     ]
    }
   ],
   "source": [
    "#Check for CUDA\n",
    "\n",
    "print(torch.cuda.is_available())\n",
    "print(torch.backends.cudnn.enabled)"
   ]
  },
  {
   "cell_type": "code",
   "execution_count": 7,
   "id": "8dda22e9",
   "metadata": {},
   "outputs": [],
   "source": [
    "# load the train and test data into python dataframe\n",
    "input_folder_path = \"input/\"\n",
    "train_df = pd.read_csv(input_folder_path+\"train.csv\")\n",
    "test_df = pd.read_csv(input_folder_path+\"test.csv\")"
   ]
  },
  {
   "cell_type": "code",
   "execution_count": 8,
   "id": "0c90e0d1",
   "metadata": {},
   "outputs": [],
   "source": [
    "# extract trainimages , train lables and test images\n",
    "train_labels = train_df['label'].values\n",
    "train_images = (train_df.iloc[:,1:].values).astype('float32')\n",
    "test_images = (test_df.iloc[:,:].values).astype('float32')"
   ]
  },
  {
   "cell_type": "code",
   "execution_count": 9,
   "id": "c4a0b792",
   "metadata": {},
   "outputs": [],
   "source": [
    "#Training and Validation Split\n",
    "train_images, val_images, train_labels, val_labels = train_test_split(train_images, train_labels,\n",
    "                                                                     stratify=train_labels, random_state=123,\n",
    "                                                                     test_size=0.20)"
   ]
  },
  {
   "cell_type": "code",
   "execution_count": 10,
   "id": "2ec5a454",
   "metadata": {},
   "outputs": [],
   "source": [
    "train_images = train_images.reshape(train_images.shape[0], 28, 28)\n",
    "val_images = val_images.reshape(val_images.shape[0], 28, 28)\n",
    "test_images = test_images.reshape(test_images.shape[0], 28, 28)"
   ]
  },
  {
   "cell_type": "code",
   "execution_count": 11,
   "id": "f9b33902",
   "metadata": {},
   "outputs": [
    {
     "data": {
      "text/plain": [
       "Text(0.5, 1.0, '8')"
      ]
     },
     "execution_count": 11,
     "metadata": {},
     "output_type": "execute_result"
    },
    {
     "data": {
      "image/png": "[encoded data removed]",
      "text/plain": [
       "<Figure size 432x288 with 1 Axes>"
      ]
     },
     "metadata": {
      "needs_background": "light"
     },
     "output_type": "display_data"
    }
   ],
   "source": [
    "plt.imshow(train_images[10].squeeze(), cmap=plt.get_cmap('gray'))\n",
    "plt.title(train_labels[10])"
   ]
  },
  {
   "cell_type": "code",
   "execution_count": 12,
   "id": "e7efb268",
   "metadata": {},
   "outputs": [],
   "source": [
    "# convert train_images array to tensor\n",
    "train_images_tensor = torch.tensor(train_images)/255.0\n",
    "train_labels_tensor = torch.tensor(train_labels)\n",
    "\n",
    "# load TensorDataset\n",
    "train_tensor = TensorDataset(train_images_tensor, train_labels_tensor)"
   ]
  },
  {
   "cell_type": "code",
   "execution_count": 13,
   "id": "d6d679a8",
   "metadata": {},
   "outputs": [],
   "source": [
    "# conversion for validation set\n",
    "val_images_tensor = torch.tensor(val_images)/255.0\n",
    "val_labels_tensor = torch.tensor(val_labels)\n",
    "\n",
    "# load TensorDataset for validation data\n",
    "val_tensor = TensorDataset(val_images_tensor, val_labels_tensor)"
   ]
  },
  {
   "cell_type": "code",
   "execution_count": 14,
   "id": "95dcafae",
   "metadata": {},
   "outputs": [],
   "source": [
    "#test set tensor dataset\n",
    "test_images_tensor = torch.tensor(test_images)/255.0"
   ]
  },
  {
   "cell_type": "code",
   "execution_count": 15,
   "id": "4d4db559",
   "metadata": {},
   "outputs": [],
   "source": [
    "# DataLoader objects\n",
    "train_loader = DataLoader(train_tensor, batch_size=16, shuffle=True)\n",
    "val_loader = DataLoader(val_tensor, batch_size=16, shuffle=True)\n",
    "test_loader = DataLoader(test_images_tensor, batch_size=16,shuffle=False)"
   ]
  },
  {
   "cell_type": "code",
   "execution_count": 16,
   "id": "2a027e55",
   "metadata": {},
   "outputs": [],
   "source": [
    "# Linear model - size of input features, size of output features as parameters\n",
    "linear_model = nn.Linear(28*28,10)"
   ]
  },
  {
   "cell_type": "code",
   "execution_count": 17,
   "id": "186b53a6",
   "metadata": {},
   "outputs": [],
   "source": [
    "#computes the cross entropy loss between input and target\n",
    "criterion = torch.nn.CrossEntropyLoss() # computes softmax and then the cross entropy"
   ]
  },
  {
   "cell_type": "code",
   "execution_count": 18,
   "id": "a0d4d7c7",
   "metadata": {},
   "outputs": [],
   "source": [
    "# Optimizer to implement stochastic gradient descent Algorithm\n",
    "optimizer = torch.optim.SGD(linear_model.parameters(), 0.001)"
   ]
  },
  {
   "cell_type": "code",
   "execution_count": 19,
   "id": "c1d6c49a",
   "metadata": {},
   "outputs": [
    {
     "name": "stdout",
     "output_type": "stream",
     "text": [
      "epoch: 0. Accuracy: 0.\n",
      "Iteration: 500. Loss: 1.780831217765808. Accuracy: 67.89286041259766.\n",
      "Iteration: 1000. Loss: 1.4704134464263916. Accuracy: 75.73809814453125.\n",
      "Iteration: 1500. Loss: 1.4212151765823364. Accuracy: 78.39286041259766.\n",
      "Iteration: 2000. Loss: 1.066674828529358. Accuracy: 80.0952377319336.\n",
      "epoch: 1. Accuracy: 80.0952377319336.\n",
      "Iteration: 2500. Loss: 1.0463961362838745. Accuracy: 81.54762268066406.\n",
      "Iteration: 3000. Loss: 0.9165847897529602. Accuracy: 82.07142639160156.\n",
      "Iteration: 3500. Loss: 0.9771316647529602. Accuracy: 82.76190185546875.\n",
      "Iteration: 4000. Loss: 0.6403618454933167. Accuracy: 83.48809814453125.\n",
      "epoch: 2. Accuracy: 83.48809814453125.\n",
      "Iteration: 4500. Loss: 0.6069902181625366. Accuracy: 83.63095092773438.\n",
      "Iteration: 5000. Loss: 0.8480868935585022. Accuracy: 84.25.\n",
      "Iteration: 5500. Loss: 0.666247546672821. Accuracy: 84.47618865966797.\n",
      "Iteration: 6000. Loss: 0.8023431301116943. Accuracy: 84.76190185546875.\n",
      "epoch: 3. Accuracy: 84.76190185546875.\n",
      "Iteration: 6500. Loss: 0.7986039519309998. Accuracy: 84.88095092773438.\n",
      "Iteration: 7000. Loss: 0.8970934748649597. Accuracy: 84.98809814453125.\n",
      "Iteration: 7500. Loss: 0.5059260725975037. Accuracy: 85.39286041259766.\n",
      "Iteration: 8000. Loss: 0.7566348910331726. Accuracy: 85.54762268066406.\n",
      "epoch: 4. Accuracy: 85.54762268066406.\n",
      "Iteration: 8500. Loss: 0.9746584296226501. Accuracy: 85.73809814453125.\n",
      "Iteration: 9000. Loss: 0.768488883972168. Accuracy: 85.71428680419922.\n",
      "Iteration: 9500. Loss: 0.4424670934677124. Accuracy: 85.82142639160156.\n",
      "Iteration: 10000. Loss: 0.656683623790741. Accuracy: 86.13095092773438.\n",
      "Iteration: 10500. Loss: 0.42362073063850403. Accuracy: 86.29762268066406.\n",
      "epoch: 5. Accuracy: 86.29762268066406.\n",
      "Iteration: 11000. Loss: 0.8064457774162292. Accuracy: 86.44047546386719.\n",
      "Iteration: 11500. Loss: 0.6798914670944214. Accuracy: 86.48809814453125.\n",
      "Iteration: 12000. Loss: 0.8082713484764099. Accuracy: 86.5952377319336.\n",
      "Iteration: 12500. Loss: 0.5053735971450806. Accuracy: 86.67857360839844.\n",
      "epoch: 6. Accuracy: 86.67857360839844.\n",
      "Iteration: 13000. Loss: 0.6780966520309448. Accuracy: 86.71428680419922.\n",
      "Iteration: 13500. Loss: 0.300410658121109. Accuracy: 86.69047546386719.\n",
      "Iteration: 14000. Loss: 0.39062127470970154. Accuracy: 86.80952453613281.\n",
      "Iteration: 14500. Loss: 0.7481408715248108. Accuracy: 86.92857360839844.\n",
      "epoch: 7. Accuracy: 86.92857360839844.\n",
      "Iteration: 15000. Loss: 0.49333566427230835. Accuracy: 86.98809814453125.\n",
      "Iteration: 15500. Loss: 0.7143197655677795. Accuracy: 87.07142639160156.\n",
      "Iteration: 16000. Loss: 0.4050719141960144. Accuracy: 87.0952377319336.\n",
      "Iteration: 16500. Loss: 0.5187013149261475. Accuracy: 87.17857360839844.\n",
      "epoch: 8. Accuracy: 87.17857360839844.\n",
      "Iteration: 17000. Loss: 0.577760636806488. Accuracy: 87.21428680419922.\n",
      "Iteration: 17500. Loss: 0.2505381405353546. Accuracy: 87.25.\n",
      "Iteration: 18000. Loss: 0.5890797972679138. Accuracy: 87.39286041259766.\n",
      "Iteration: 18500. Loss: 0.2411298006772995. Accuracy: 87.29762268066406.\n",
      "epoch: 9. Accuracy: 87.29762268066406.\n",
      "Iteration: 19000. Loss: 0.7373330593109131. Accuracy: 87.42857360839844.\n",
      "Iteration: 19500. Loss: 0.23784837126731873. Accuracy: 87.44047546386719.\n",
      "Iteration: 20000. Loss: 0.5284197330474854. Accuracy: 87.46428680419922.\n",
      "Iteration: 20500. Loss: 0.6309471726417542. Accuracy: 87.53571319580078.\n",
      "Iteration: 21000. Loss: 0.569158136844635. Accuracy: 87.69047546386719.\n",
      "epoch: 10. Accuracy: 87.69047546386719.\n",
      "Iteration: 21500. Loss: 0.5334070324897766. Accuracy: 87.72618865966797.\n",
      "Iteration: 22000. Loss: 0.4967675805091858. Accuracy: 87.73809814453125.\n",
      "Iteration: 22500. Loss: 0.474831223487854. Accuracy: 87.76190185546875.\n",
      "Iteration: 23000. Loss: 0.23760753870010376. Accuracy: 87.85713958740234.\n",
      "epoch: 11. Accuracy: 87.85713958740234.\n",
      "Iteration: 23500. Loss: 0.5656861662864685. Accuracy: 87.79762268066406.\n",
      "Iteration: 24000. Loss: 0.4433233141899109. Accuracy: 87.80952453613281.\n",
      "Iteration: 24500. Loss: 0.40075984597206116. Accuracy: 88.03571319580078.\n",
      "Iteration: 25000. Loss: 0.4349789023399353. Accuracy: 88.07142639160156.\n",
      "epoch: 12. Accuracy: 88.07142639160156.\n",
      "Iteration: 25500. Loss: 0.28943395614624023. Accuracy: 88.08333587646484.\n",
      "Iteration: 26000. Loss: 0.2534549832344055. Accuracy: 88.08333587646484.\n",
      "Iteration: 26500. Loss: 0.501987874507904. Accuracy: 88.22618865966797.\n",
      "Iteration: 27000. Loss: 0.7310638427734375. Accuracy: 88.08333587646484.\n",
      "epoch: 13. Accuracy: 88.08333587646484.\n",
      "Iteration: 27500. Loss: 0.19616881012916565. Accuracy: 88.27381134033203.\n",
      "Iteration: 28000. Loss: 0.4725349247455597. Accuracy: 88.33333587646484.\n",
      "Iteration: 28500. Loss: 0.40282583236694336. Accuracy: 88.33333587646484.\n",
      "Iteration: 29000. Loss: 0.45659035444259644. Accuracy: 88.26190185546875.\n",
      "epoch: 14. Accuracy: 88.26190185546875.\n",
      "Iteration: 29500. Loss: 0.15079042315483093. Accuracy: 88.42857360839844.\n",
      "Iteration: 30000. Loss: 0.45097848773002625. Accuracy: 88.42857360839844.\n",
      "Iteration: 30500. Loss: 0.2428896278142929. Accuracy: 88.41666412353516.\n",
      "Iteration: 31000. Loss: 1.0016502141952515. Accuracy: 88.47618865966797.\n",
      "Iteration: 31500. Loss: 0.22851824760437012. Accuracy: 88.51190185546875.\n",
      "epoch: 15. Accuracy: 88.51190185546875.\n",
      "Iteration: 32000. Loss: 0.21840281784534454. Accuracy: 88.55952453613281.\n",
      "Iteration: 32500. Loss: 0.4382686913013458. Accuracy: 88.57142639160156.\n",
      "Iteration: 33000. Loss: 0.30676478147506714. Accuracy: 88.63095092773438.\n",
      "Iteration: 33500. Loss: 0.6069783568382263. Accuracy: 88.6547622680664.\n"
     ]
    }
   ],
   "source": [
    "iter = 0\n",
    "accuracy=0\n",
    "for epoch in range(int(16)):\n",
    "    print(\"epoch: {}. Accuracy: {}.\".format(epoch, accuracy))\n",
    "    for i, (images, labels) in enumerate(train_loader):\n",
    "        images = Variable(images.view(-1, 28 * 28))\n",
    "        labels = Variable(labels)\n",
    "        \n",
    "        # below method call is made to set the gradients of all optimized torch Tensors to zero.\n",
    "        optimizer.zero_grad()\n",
    "        \n",
    "        #predict the output\n",
    "        outputs = linear_model(images)\n",
    "        \n",
    "        #derive the loss\n",
    "        loss = criterion(outputs, labels)\n",
    "        \n",
    "        # loss.backward method called to compute the gradients\n",
    "        loss.backward()\n",
    "        \n",
    "        # below method called to perform single optimization step - i.e. to update the parameters\n",
    "        optimizer.step()\n",
    "        \n",
    "        iter+=1\n",
    "        if iter%500==0:\n",
    "            # calculate Accuracy\n",
    "            correct = 0\n",
    "            total = 0\n",
    "            for images, labels in val_loader:\n",
    "                images = Variable(images.view(-1, 28*28))\n",
    "                outputs = linear_model(images)\n",
    "                _, predicted = torch.max(outputs.data, 1)\n",
    "                total+= labels.size(0)\n",
    "                # for gpu, bring the predicted and labels back to cpu fro python operations to work\n",
    "                correct+= (predicted == labels).sum()\n",
    "            accuracy = 100 * correct/total\n",
    "            print(\"Iteration: {}. Loss: {}. Accuracy: {}.\".format(iter, loss.item(), accuracy))"
   ]
  }
 ],
 "metadata": {
  "anaconda-cloud": {},
  "kernelspec": {
   "display_name": "Python 3 (ipykernel)",
   "language": "python",
   "name": "python3"
  },
  "language_info": {
   "codemirror_mode": {
    "name": "ipython",
    "version": 3
   },
   "file_extension": ".py",
   "mimetype": "text/x-python",
   "name": "python",
   "nbconvert_exporter": "python",
   "pygments_lexer": "ipython3",
   "version": "3.9.7"
  }
 },
 "nbformat": 4,
 "nbformat_minor": 5
}
